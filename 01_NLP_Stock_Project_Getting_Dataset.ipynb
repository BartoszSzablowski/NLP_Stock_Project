{
 "cells": [
  {
   "cell_type": "markdown",
   "id": "1f78f248",
   "metadata": {},
   "source": [
    "# 1. Import libraries"
   ]
  },
  {
   "cell_type": "code",
   "execution_count": null,
   "id": "1d78f864",
   "metadata": {},
   "outputs": [],
   "source": [
    "# data manipulation\n",
    "import numpy as np\n",
    "import pandas as pd\n",
    "import re\n",
    "from datetime import datetime\n",
    "import time\n",
    "\n",
    "# data collection\n",
    "import requests\n",
    "from bs4 import BeautifulSoup\n",
    "\n",
    "# progress display\n",
    "from tqdm import tqdm"
   ]
  },
  {
   "cell_type": "markdown",
   "id": "bf3d0019",
   "metadata": {},
   "source": [
    "# 2. Data collection and preparation"
   ]
  },
  {
   "cell_type": "markdown",
   "id": "fb947084",
   "metadata": {},
   "source": [
    "### Articles"
   ]
  },
  {
   "cell_type": "code",
   "execution_count": null,
   "id": "ceae0826",
   "metadata": {
    "scrolled": false
   },
   "outputs": [],
   "source": [
    "# Create Dataset\n",
    "dataset = pd.DataFrame(columns=['Date', 'Title', 'Content'])\n",
    "\n",
    "### Link searching ###\n",
    "# data from the last 5 years due to a rather large dataset\n",
    "history = [date.strftime(\"%Y-%m-%d\") for date in pd.date_range(start=\"2008-01-01\", end=datetime.today())]\n",
    "for date in tqdm(history):\n",
    "    # print(date)\n",
    "    url = 'https://forsal.pl/archiwum/'+str(date)\n",
    "#     print(url)\n",
    "    f = requests.get(url)\n",
    "    soup = BeautifulSoup(f.text, 'html.parser')\n",
    "    mat = str(soup)\n",
    "    links = (re.findall(r\"<a.*? href=\\\"(.*?)\\\".*?>(.*?)</a>\", mat)[:])\n",
    "    for link in links:\n",
    "        if (('artykuly' in link[0])&('https://www.gazetaprawna.pl/artykuly' not in link[0])&('swiat' not in link[0]))&\\\n",
    "            (('notowania' in link[0])|('finanse/gielda' in link[0])):\n",
    "            # print(link[0])\n",
    "            url2 = link[0]\n",
    "            time.sleep(0.001)\n",
    "            f = requests.get(url2)\n",
    "            soup = BeautifulSoup(f.text, 'html.parser')\n",
    "            title = link[1]\n",
    "            # print(title)\n",
    "            # print(date)\n",
    "            try:\n",
    "                content = soup.find_all(class_='leadDiv')[0].text[:]+' '+soup.find_all(class_='articleBody')[0].text.split('>>>')[0]\n",
    "            except:\n",
    "                try:\n",
    "                    content = soup.find_all(class_='lead')[0].text[:]+' '+soup.find_all(class_='articleBody')[0].text.split('>>>')[0]\n",
    "                except:\n",
    "                    continue\n",
    "            # print(content)\n",
    "            # print()\n",
    "            dataset_single_article = pd.DataFrame(({'Date':[date], 'Title':title, 'Content':content}))\n",
    "            dataset = pd.concat([dataset, dataset_single_article], axis=0)\n",
    "\n",
    "dataset.reset_index(drop=True, inplace=True)\n",
    "dataset.to_csv('Articles.csv')\n",
    "dataset"
   ]
  },
  {
   "cell_type": "code",
   "execution_count": null,
   "id": "c69dda9a",
   "metadata": {},
   "outputs": [],
   "source": [
    "dataset['Date'].unique()"
   ]
  },
  {
   "cell_type": "markdown",
   "id": "0c94ee85",
   "metadata": {},
   "source": [
    "### Stock market - WIG 20 historic price"
   ]
  },
  {
   "cell_type": "code",
   "execution_count": null,
   "id": "d7461609",
   "metadata": {},
   "outputs": [],
   "source": [
    "wig_20 = pd.read_csv('https://stooq.pl/q/d/l/?s=wig20&i=d')\n",
    "wig_20.to_csv('WIG_20.csv')\n",
    "wig_20"
   ]
  },
  {
   "cell_type": "code",
   "execution_count": null,
   "id": "5c8b0f59",
   "metadata": {},
   "outputs": [],
   "source": []
  }
 ],
 "metadata": {
  "kernelspec": {
   "display_name": "Python 3",
   "language": "python",
   "name": "python3"
  },
  "language_info": {
   "codemirror_mode": {
    "name": "ipython",
    "version": 3
   },
   "file_extension": ".py",
   "mimetype": "text/x-python",
   "name": "python",
   "nbconvert_exporter": "python",
   "pygments_lexer": "ipython3",
   "version": "3.7.4"
  }
 },
 "nbformat": 4,
 "nbformat_minor": 5
}
